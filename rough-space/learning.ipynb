{
 "cells": [
  {
   "cell_type": "code",
   "execution_count": 4,
   "id": "a8767f76",
   "metadata": {},
   "outputs": [
    {
     "data": {
      "text/html": [
       "<pre class=\"language-APL\">Was ON\n",
       "</pre>"
      ]
     },
     "execution_count": 4,
     "metadata": {},
     "output_type": "execute_result"
    },
    {
     "data": {
      "text/html": [
       "<pre class=\"language-APL\">Was OFF\n",
       "</pre>"
      ]
     },
     "execution_count": 4,
     "metadata": {},
     "output_type": "execute_result"
    }
   ],
   "source": [
    "⎕IO ← 0\n",
    "]box on\n",
    "]rows on"
   ]
  },
  {
   "cell_type": "code",
   "execution_count": 5,
   "id": "351bbd09",
   "metadata": {},
   "outputs": [],
   "source": [
    "assert ← {⍺ ← 'assertion failure' ⋄ 0∊⍵: ⍺ ⎕signal 8 ⋄ shy ← 0}"
   ]
  },
  {
   "cell_type": "code",
   "execution_count": 6,
   "id": "ad7ac9d2",
   "metadata": {},
   "outputs": [],
   "source": [
    "]dinput\n",
    "Palinish ← {\n",
    "    rev ← ⊖⍵ ⍝ Reverse the right arg\n",
    "    rev≡⍵\n",
    "}"
   ]
  },
  {
   "cell_type": "code",
   "execution_count": 7,
   "id": "f800ee0a",
   "metadata": {},
   "outputs": [
    {
     "data": {
      "text/html": [
       "<pre class=\"language-APL\">1\n",
       "</pre>"
      ]
     },
     "execution_count": 7,
     "metadata": {},
     "output_type": "execute_result"
    }
   ],
   "source": [
    "Palinish 1 2 3 2 1 "
   ]
  },
  {
   "cell_type": "code",
   "execution_count": 8,
   "id": "02d1580f",
   "metadata": {},
   "outputs": [
    {
     "data": {
      "text/html": [
       "<pre class=\"language-APL\">0\n",
       "</pre>"
      ]
     },
     "execution_count": 8,
     "metadata": {},
     "output_type": "execute_result"
    }
   ],
   "source": [
    "2÷⍨⍣=10"
   ]
  },
  {
   "cell_type": "code",
   "execution_count": 9,
   "id": "7e0aebc1",
   "metadata": {},
   "outputs": [
    {
     "data": {
      "text/html": [
       "<pre class=\"language-APL\">32390421991487931157990989988905581516\n",
       "6\n",
       "</pre>"
      ]
     },
     "execution_count": 9,
     "metadata": {},
     "output_type": "execute_result"
    }
   ],
   "source": [
    " {⍞ ← ?10}⍣{6=⍺} 0 ⍝ Keep generating random numbers between 1 and 10 until we get a 6"
   ]
  },
  {
   "cell_type": "code",
   "execution_count": 10,
   "id": "8e942e3d",
   "metadata": {},
   "outputs": [
    {
     "data": {
      "text/html": [
       "<pre class=\"language-APL\">5\n",
       "</pre>"
      ]
     },
     "execution_count": 10,
     "metadata": {},
     "output_type": "execute_result"
    }
   ],
   "source": [
    "1↑5 6 7 8"
   ]
  },
  {
   "cell_type": "code",
   "execution_count": 11,
   "id": "c5bd5277",
   "metadata": {},
   "outputs": [
    {
     "data": {
      "text/html": [
       "<pre class=\"language-APL\">1 0 1 1 0 1 1 1\n",
       "</pre>"
      ]
     },
     "execution_count": 11,
     "metadata": {},
     "output_type": "execute_result"
    }
   ],
   "source": [
    "0@ 4 1 ⊢ 1 1 1 1 1 1 1 1"
   ]
  },
  {
   "cell_type": "code",
   "execution_count": 12,
   "id": "70882114",
   "metadata": {},
   "outputs": [
    {
     "data": {
      "text/html": [
       "<pre class=\"language-APL\">┌→──────┐\n",
       "│1 2 3 4│\n",
       "└~──────┘\n",
       "</pre>"
      ]
     },
     "execution_count": 12,
     "metadata": {},
     "output_type": "execute_result"
    }
   ],
   "source": [
    "]DISPLAY 1 2 3 4"
   ]
  },
  {
   "cell_type": "code",
   "execution_count": 14,
   "id": "d7ed0a7b",
   "metadata": {},
   "outputs": [
    {
     "data": {
      "text/html": [
       "<pre class=\"language-APL\">3.141592654\n",
       "</pre>"
      ]
     },
     "execution_count": 14,
     "metadata": {},
     "output_type": "execute_result"
    }
   ],
   "source": [
    "○ 1\n"
   ]
  },
  {
   "cell_type": "code",
   "execution_count": 21,
   "id": "2c725a11",
   "metadata": {},
   "outputs": [
    {
     "name": "stderr",
     "output_type": "stream",
     "text": [
      "SYNTAX ERROR\n",
      "      ⎕SIGNAL 2\n",
      "      ∧\n"
     ]
    }
   ],
   "source": [
    "⎕SIGNAL 2"
   ]
  },
  {
   "cell_type": "code",
   "execution_count": 25,
   "id": "6e4233e2",
   "metadata": {},
   "outputs": [
    {
     "data": {
      "text/html": [
       "<pre class=\"language-APL\">1 0 0 1\n",
       "</pre>"
      ]
     },
     "execution_count": 25,
     "metadata": {},
     "output_type": "execute_result"
    }
   ],
   "source": [
    "1 2 3 1 {⎕IO←0 ⋄ n←≢w←,⍵ ⋄ n>w⍳⍺} 1\n"
   ]
  },
  {
   "cell_type": "code",
   "execution_count": 24,
   "id": "a1890738",
   "metadata": {},
   "outputs": [
    {
     "data": {
      "text/html": [
       "<pre class=\"language-APL\">1 0 0 1\n",
       "</pre>"
      ]
     },
     "execution_count": 24,
     "metadata": {},
     "output_type": "execute_result"
    }
   ],
   "source": [
    "1 2 3 1 ∊ 1 "
   ]
  },
  {
   "cell_type": "code",
   "execution_count": 30,
   "id": "8b786e89",
   "metadata": {},
   "outputs": [
    {
     "data": {
      "text/html": [
       "<pre class=\"language-APL\">1 0 0 1\n",
       "</pre>"
      ]
     },
     "execution_count": 30,
     "metadata": {},
     "output_type": "execute_result"
    }
   ],
   "source": [
    "1 2 3 1 {⎕IO←0 ⋄ n←≢w←,⍵ ⋄ n>w⍳⍺} 1\n"
   ]
  },
  {
   "cell_type": "code",
   "execution_count": null,
   "id": "83a9bc0b",
   "metadata": {},
   "outputs": [],
   "source": []
  }
 ],
 "metadata": {
  "kernelspec": {
   "display_name": "Dyalog APL",
   "language": "apl",
   "name": "dyalog-kernel"
  },
  "language_info": {
   "file_extension": ".apl",
   "mimetype": "text/apl",
   "name": "apl"
  }
 },
 "nbformat": 4,
 "nbformat_minor": 5
}
