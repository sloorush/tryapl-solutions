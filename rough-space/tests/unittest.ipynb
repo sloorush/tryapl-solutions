{
 "cells": [
  {
   "cell_type": "code",
   "execution_count": 53,
   "metadata": {},
   "outputs": [],
   "source": [
    ":Namespace unittest\n",
    "    ⎕IO ← 0\n",
    "    run←{\n",
    "        tests ← 'test_.+'⎕S'&'⎕NL ¯3\n",
    "        0=≢tests: 'no tests found'\n",
    "        ↑{⍺,('.'/⍨30-≢⍺),⍵⊃'[FAIL]' '[PASS]'}⌿↑tests (⍎¨tests,¨⊂' ⍬')\n",
    "    }\n",
    ":EndNamespace"
   ]
  },
  {
   "cell_type": "code",
   "execution_count": 54,
   "metadata": {},
   "outputs": [],
   "source": [
    "upper←1∘⎕C\n",
    "isupper←{⍵≡1⎕C⍵}\n",
    "split←≠⊆⊢         ⍝ Won't complain about a non-string separator, but hey, why should it?"
   ]
  },
  {
   "cell_type": "code",
   "execution_count": 55,
   "metadata": {},
   "outputs": [],
   "source": [
    "unittest.test_upper←{'FOO'≡#.upper 'Foo'}"
   ]
  },
  {
   "cell_type": "code",
   "execution_count": 56,
   "metadata": {},
   "outputs": [],
   "source": [
    "unittest.test_isupper2←{(#.isupper 'FOO')∧~#.isupper 'BAR'} ⍝ Failing test"
   ]
  },
  {
   "cell_type": "code",
   "execution_count": 57,
   "metadata": {
    "scrolled": true
   },
   "outputs": [
    {
     "data": {
      "text/html": [
       "<pre class=\"language-APL\">test_isupper2.................[FAIL]\n",
       "test_upper....................[PASS]\n",
       "</pre>"
      ]
     },
     "execution_count": 57,
     "metadata": {},
     "output_type": "execute_result"
    }
   ],
   "source": [
    "unittest.run⍬"
   ]
  },
  {
   "cell_type": "code",
   "execution_count": null,
   "metadata": {},
   "outputs": [],
   "source": []
  }
 ],
 "metadata": {
  "kernelspec": {
   "display_name": "Dyalog APL",
   "language": "apl",
   "name": "dyalog-kernel"
  },
  "language_info": {
   "file_extension": ".apl",
   "mimetype": "text/apl",
   "name": "apl"
  }
 },
 "nbformat": 4,
 "nbformat_minor": 2
}
