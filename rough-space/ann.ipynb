{
 "cells": [
  {
   "cell_type": "markdown",
   "metadata": {},
   "source": [
    "Trying out stuff from https://github.com/ghosthamlet/ann.apl"
   ]
  },
  {
   "cell_type": "code",
   "execution_count": 2,
   "metadata": {
    "vscode": {
     "languageId": "apl"
    }
   },
   "outputs": [],
   "source": [
    "l0 ← 4 3 ⍴ 0 0 1  0 1 1  1 0 1  1 1 1\n"
   ]
  },
  {
   "cell_type": "code",
   "execution_count": 3,
   "metadata": {
    "vscode": {
     "languageId": "apl"
    }
   },
   "outputs": [],
   "source": [
    "y ← 4 1 ⍴ 0 0 1 1\n"
   ]
  },
  {
   "cell_type": "code",
   "execution_count": 4,
   "metadata": {
    "vscode": {
     "languageId": "apl"
    }
   },
   "outputs": [],
   "source": [
    "syn0 ← 3 1 ⍴ 0.5069797399 0.5703818579 0.9265880619\n"
   ]
  },
  {
   "cell_type": "code",
   "execution_count": 5,
   "metadata": {
    "vscode": {
     "languageId": "apl"
    }
   },
   "outputs": [],
   "source": [
    "e ← 2.718281828459045\n"
   ]
  },
  {
   "cell_type": "code",
   "execution_count": 6,
   "metadata": {
    "vscode": {
     "languageId": "apl"
    }
   },
   "outputs": [],
   "source": [
    "output ← { d ← l0 +.× ⍵ ⋄ 1 ÷ 1 + e * 0 - d }\n"
   ]
  },
  {
   "cell_type": "code",
   "execution_count": 7,
   "metadata": {
    "vscode": {
     "languageId": "apl"
    }
   },
   "outputs": [],
   "source": [
    "train ← { l1 ← output ⍵ ⋄ l1_err ← y - l1 ⋄ l1_delta ← l1_err × l1 × 1 - l1 ⋄ ⍵ + (⍉ l0) +.× l1_delta }\n"
   ]
  },
  {
   "cell_type": "code",
   "execution_count": 8,
   "metadata": {
    "vscode": {
     "languageId": "apl"
    }
   },
   "outputs": [
    {
     "name": "stderr",
     "output_type": "stream",
     "text": [
      "RANK ERROR: Mismatched left and right argument ranks\n",
      "train[0] train←{l1←output ⍵ ⋄ l1_err←y-l1 ⋄ l1_delta←l1_err×l1×1-l1 ⋄ ⍵+(⍉l0)+.×l1_delta}\n",
      "                                      ∧\n",
      "RANK ERROR: Mismatched left and right argument ranks\n",
      "train[0] train←{l1←output ⍵ ⋄ l1_err←y-l1 ⋄ l1_delta←l1_err×l1×1-l1 ⋄ ⍵+(⍉l0)+.×l1_delta}\n",
      "                                      ∧\n"
     ]
    }
   ],
   "source": [
    "⍝ in lisp (repeat 1000 #(train 1))\n",
    "(1000⍴1) ∘.train 1\n",
    "⍝ in lisp (last (train each 1..1000))\n",
    "0⊥train¨ ⍳1000\n",
    "⍝ in lisp (apply (repeat 1000 train) syn0)\n"
   ]
  },
  {
   "cell_type": "code",
   "execution_count": 9,
   "metadata": {
    "vscode": {
     "languageId": "apl"
    }
   },
   "outputs": [],
   "source": [
    "syn0 ← (train⍣1000) syn0\n"
   ]
  },
  {
   "cell_type": "code",
   "execution_count": 10,
   "metadata": {
    "vscode": {
     "languageId": "apl"
    }
   },
   "outputs": [],
   "source": [
    "l1 ← output syn0"
   ]
  },
  {
   "cell_type": "code",
   "execution_count": 11,
   "metadata": {
    "vscode": {
     "languageId": "apl"
    }
   },
   "outputs": [
    {
     "data": {
      "text/html": [
       "<pre class=\"language-APL\">0.03190672532\n",
       "0.02573526752\n",
       "0.979111759\n",
       "0.974071711\n",
       "</pre>"
      ]
     },
     "execution_count": 11,
     "metadata": {},
     "output_type": "execute_result"
    }
   ],
   "source": [
    "l1"
   ]
  },
  {
   "cell_type": "code",
   "execution_count": null,
   "metadata": {
    "vscode": {
     "languageId": "apl"
    }
   },
   "outputs": [],
   "source": []
  }
 ],
 "metadata": {
  "kernelspec": {
   "display_name": "Dyalog APL",
   "language": "apl",
   "name": "dyalog-kernel"
  },
  "language_info": {
   "file_extension": ".apl",
   "mimetype": "text/apl",
   "name": "APL"
  },
  "orig_nbformat": 4
 },
 "nbformat": 4,
 "nbformat_minor": 2
}
