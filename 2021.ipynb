{
 "cells": [
  {
   "cell_type": "code",
   "execution_count": 3,
   "id": "5532e33e",
   "metadata": {},
   "outputs": [
    {
     "data": {
      "text/html": [
       "<pre class=\"language-APL\">77.77777778\n",
       "</pre>"
      ]
     },
     "execution_count": 3,
     "metadata": {},
     "output_type": "execute_result"
    }
   ],
   "source": [
    "⍝ 1: Are You a Bacteria?\n",
    "⍝ A DNA string is composed of the letters ‘A’,’C’,’G’ and ‘T’. The GC-content of a DNA string is given by the percentage of the symbols in the string that are either ‘C’ or ‘G’. Very small discrepancies in GC-content can be used to distinguish species; for instance, most bacteria have a GC-content significantly higher than 50%.\n",
    "\n",
    "⍝ Write a function that:\n",
    "\n",
    "⍝ has a right argument that is a non-empty character vector representing a DNA string.\n",
    "⍝ returns the percentage of GC-content in the string.\n",
    "⍝ 💡 Hint: The membership function X∊Y could be helpful for this problem.\n",
    "\n",
    "⍝ Examples\n",
    "⍝       (your_function) 'GCGCGCGCCCGGGGCCG'\n",
    "⍝ 100\n",
    "\n",
    "⍝       (your_function) 'ACGTACGTACGTACGT'\n",
    "⍝ 50\n",
    "\n",
    "⍝       (your_function) 10 12 16 10/'ACGT'\n",
    "⍝ 58.33333333\n",
    "\n",
    "{100×(+/⍵∊'GC')÷(≢⍵)} 'GCGCACGCA'"
   ]
  },
  {
   "cell_type": "code",
   "execution_count": 4,
   "id": "4e305562",
   "metadata": {},
   "outputs": [
    {
     "data": {
      "text/html": [
       "<pre class=\"language-APL\">3 0 4\n",
       "</pre>"
      ]
     },
     "execution_count": 4,
     "metadata": {},
     "output_type": "execute_result"
    },
    {
     "data": {
      "text/html": [
       "<pre class=\"language-APL\">3 0 4\n",
       "</pre>"
      ]
     },
     "execution_count": 4,
     "metadata": {},
     "output_type": "execute_result"
    }
   ],
   "source": [
    "⍝ 2: Index-Of Modified\n",
    "⍝ Write a function that behaves like the APL index-of function R←X⍳Y except that it returns 0 instead of 1+≢X for elements of Y not found in X.\n",
    "\n",
    "⍝ Examples\n",
    "⍝       'DYALOG' (your_function) 'APL'\n",
    "⍝ 3 0 4\n",
    "      \n",
    "⍝       (5 5⍴⎕A) (your_function) ↑'UVWXY' 'FGHIJ' 'XYZZY'\n",
    "⍝ 5 2 0\n",
    "\n",
    "'DYALOG' {(1+(≢⍺))|⍺⍳⍵} 'APL'\n",
    "\n",
    "⍝ OR not as a dfn\n",
    "\n",
    "'DYALOG' ((1+(≢⊣))|⍳) 'APL'"
   ]
  },
  {
   "cell_type": "code",
   "execution_count": 5,
   "id": "e096a9bb",
   "metadata": {},
   "outputs": [
    {
     "data": {
      "text/html": [
       "<pre class=\"language-APL\">┌───┬─────┐\n",
       "│3 6│2 4 6│\n",
       "└───┴─────┘\n",
       "</pre>"
      ]
     },
     "execution_count": 5,
     "metadata": {},
     "output_type": "execute_result"
    }
   ],
   "source": [
    "⍝ 3: Multiplicity\n",
    "⍝ Write a function that:\n",
    "\n",
    "⍝ has a right argument Y which is an integer vector or scalar\n",
    "⍝ has a left argument X which is also an integer vector or scalar\n",
    "⍝ finds which elements of Y are multiples of each element of X and returns them as a vector (in the order of X) of vectors (in the order of Y).\n",
    "⍝ 💡 Hint: The residue function X|Y and outer product operator X∘.fY might be useful for this problem.\n",
    "\n",
    "⍝ 3 {((⍺∘|⍵)∊0)/⍵} 1 2 3 4 5 6\n",
    "\n",
    "⍝ Partial solution, has issue with len(alpha)>1\n",
    "⍝ {((⍺∘|⍵)∊0)/⍵} caused LENGTH ERROR with (2 4 7 3 9) as left argument and (5 7 8 1 12 10 20 16 11 4 2 15 3 18 14 19 13 9 17 6) as right argument\n",
    "\n",
    "⍝ if you want all the number\n",
    "⍝ 3 2{↑(∨/(0=(⍺|¨⊂⍵)))/¨↓⍵} 1 2 3 4 5 6\n",
    "\n",
    "⍝ FINAL ANSWER: (if you want it as a vector)\n",
    "⍝ 3 2{(0=(⍺|¨⊂⍵))/¨↓⍵} 1 2 3 4 5 6\n",
    "\n",
    "⍝ FINAL FINAL ANSWER: No need for ¨ as | is a a scalar function. \n",
    "3 2{(0=(⍺|⊂⍵))/¨↓⍵} 1 2 3 4 5 6"
   ]
  },
  {
   "cell_type": "code",
   "execution_count": 6,
   "id": "fcad2302",
   "metadata": {},
   "outputs": [
    {
     "data": {
      "text/html": [
       "<pre class=\"language-APL\">{(○⍵×⍵)-(2×⍵×⍵)}\n",
       "</pre>"
      ]
     },
     "execution_count": 6,
     "metadata": {},
     "output_type": "execute_result"
    }
   ],
   "source": [
    "⍝ 4: Square Peg, Round Hole\n",
    "⍝ Write a function that:\n",
    "\n",
    "⍝ takes a right argument which is an array of positive numbers representing circle diameters\n",
    "⍝ returns a numeric array of the same shape as the right argument representing the difference between the areas of the circles and the areas of the largest squares that can be inscribed within each circle\n",
    "⍝ 💡 Hint: The pi times function ○Y could be helpful.\n",
    "\n",
    "⍝ Examples\n",
    "⍝       (your_function) 2×⍳5\n",
    "⍝ 1.141592654 4.566370614 10.27433388 18.26548246 28.53981634\n",
    "\n",
    "⍝       (your_function) (2*.5)×3 3 ⍴⍳9\n",
    "⍝  0.5707963268  2.283185307  5.137166941\n",
    "⍝  9.132741229  14.26990817  20.54866776 \n",
    "⍝ 27.96902001   36.53096491  46.23450247 \n",
    "\n",
    "\n",
    "\n",
    "⍝ Don't know why this did not work\n",
    "{(○⍵×⍵)-(2×⍵×⍵)}"
   ]
  },
  {
   "cell_type": "code",
   "execution_count": 7,
   "id": "bf7805b9",
   "metadata": {},
   "outputs": [],
   "source": [
    "⍝ 5:\n",
    "⍝ I will do this later"
   ]
  },
  {
   "cell_type": "code",
   "execution_count": 8,
   "id": "50baadce",
   "metadata": {},
   "outputs": [
    {
     "data": {
      "text/html": [
       "<pre class=\"language-APL\">1\n",
       "</pre>"
      ]
     },
     "execution_count": 8,
     "metadata": {},
     "output_type": "execute_result"
    }
   ],
   "source": [
    "⍝ 6: Fischer Random Chess\n",
    "\n",
    "⍝ According to Wikipedia, Fischer random chess is a variation of the game of chess invented by former world chess champion Bobby Fischer. Fischer random chess employs the same board and pieces as standard chess, but the starting position of the non-pawn pieces on the players' home ranks is randomized, following certain rules. White's non-pawn pieces are placed on the first rank according to the following rules:\n",
    "\n",
    "⍝ The Bishops must be placed on opposite-color squares.\n",
    "⍝ The King must be placed on a square between the rooks.\n",
    "⍝ The good news is that you don't actually need to know anything about chess to solve this problem! We'll use strings whose elements are 'KQRRBBNN' for the King (♔), Queen (♕), 2 Rooks (♖), 2 Bishops (♗), and 2 kNights (♘) respectively.\n",
    "\n",
    "⍝ Write a function that:\n",
    "\n",
    "⍝ has a character vector right argument that is a permutation of 'KQRRBBNN'\n",
    "⍝ returns 1 if the following are true:\n",
    "⍝ the K is between the two Rs\n",
    "⍝ the Bs occupy one odd and one even position\n",
    "⍝ otherwise a 0 is returned.\n",
    "⍝ 💡 Hint: The where function ⍸Y and the residue function X|Y could help with solving this problem.\n",
    "\n",
    "⍝ Examples\n",
    "      \n",
    "⍝       (your_function) 'RNBQKBNR' ⍝ standard chess layout\n",
    "⍝ 1\n",
    "\n",
    "⍝       (your_function) 'BBNRKNRQ' ⍝ layout in diagram above\n",
    "⍝ 1\n",
    "\n",
    "⍝       (your_function) 'RBBNQNRK' ⍝ K not between Rs\n",
    "⍝ 0\n",
    "\n",
    "⍝       (your_function) 'BRBKRNQN' ⍝ Bs both in odd positions \n",
    "⍝ 0\n",
    "\n",
    "{(≠/(⍸'R'=⍵)<⍵⍳'K')∧(≠/2|⍸'B'=⍵)} 'RNBQKBNR'"
   ]
  },
  {
   "cell_type": "code",
   "execution_count": 9,
   "id": "cd52d365",
   "metadata": {},
   "outputs": [
    {
     "data": {
      "text/html": [
       "<pre class=\"language-APL\">{(+/↓⍵)∊(+/↓⍉⍵)}\n",
       "</pre>"
      ]
     },
     "execution_count": 9,
     "metadata": {},
     "output_type": "execute_result"
    },
    {
     "data": {
      "text/html": [
       "<pre class=\"language-APL\">{0∊(⊃(+/↓⍵)=⊃(+/↓⌽⍉⍵)):0 ⋄ 1}\n",
       "</pre>"
      ]
     },
     "execution_count": 9,
     "metadata": {},
     "output_type": "execute_result"
    }
   ],
   "source": [
    "⍝ 7: Can You Feel the Magic?\n",
    "\n",
    "⍝ Wikipedia states that, in recreational mathematics, a square array of numbers, usually positive integers, is called a magic square if the sums of the numbers in each row, each column, and both main diagonals are the same.\n",
    "\n",
    "⍝ Write a function to test whether an array is a magic square. The function must:\n",
    "\n",
    "⍝ have a right argument that is a square matrix of integers (not necessarily all positive integers)\n",
    "⍝ return 1 if the array represents a magic square, otherwise return 0\n",
    "⍝ 💡 Hint: The dyadic transpose X⍉Y function could be helpful for solving this problem.\n",
    "\n",
    "⍝ Examples\n",
    "⍝       (your_function) 1 1⍴42\n",
    "⍝ 1\n",
    "\n",
    "⍝       (your_function) 3 3⍴4 9 2 3 5 7 8 1 6\n",
    "⍝ 1\n",
    "\n",
    "⍝       (your_function) 2 2⍴1 2 3 4\n",
    "\n",
    "\n",
    "\n",
    "⍝ solution 1 but doesnt work for:\n",
    "⍝ 2 2\n",
    "⍝ 2 4\n",
    "{(+/↓⍵)∊(+/↓⍉⍵)} \n",
    "\n",
    "⍝ fits everything but the diagonal case\n",
    "{0∊(⊃(+/↓⍵)=⊃(+/↓⌽⍉⍵)):0 ⋄1}"
   ]
  }
 ],
 "metadata": {
  "kernelspec": {
   "display_name": "Dyalog APL",
   "language": "apl",
   "name": "dyalog-kernel"
  },
  "language_info": {
   "file_extension": ".apl",
   "mimetype": "text/apl",
   "name": "APL"
  },
  "vscode": {
   "interpreter": {
    "hash": "09fae4f20d632cc28f77810a4d238f1fb4b4a134350fabeace171ddea829ea31"
   }
  }
 },
 "nbformat": 4,
 "nbformat_minor": 5
}
